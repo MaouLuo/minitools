{
 "cells": [
  {
   "cell_type": "code",
   "execution_count": 2,
   "metadata": {},
   "outputs": [],
   "source": [
    "import pandas as pd"
   ]
  },
  {
   "cell_type": "code",
   "execution_count": 37,
   "metadata": {
    "scrolled": true
   },
   "outputs": [
    {
     "name": "stdout",
     "output_type": "stream",
     "text": [
      "          屏幕分辨率  用户数\n",
      "0     1920x1080   10\n",
      "1     1920x1080    9\n",
      "2     1920x1080    6\n",
      "3      1366x768    5\n",
      "4      1366x768    5\n",
      "...         ...  ...\n",
      "1199    414x896    1\n",
      "1200    414x896    1\n",
      "1201    800x600    1\n",
      "1202    800x600    1\n",
      "1203    800x600    1\n",
      "\n",
      "[1204 rows x 2 columns]\n",
      "         屏幕分辨率  用户数\n",
      "0    1920x1080   10\n",
      "3     1366x768    5\n",
      "7      800x600    5\n",
      "8     1280x960    4\n",
      "37    1152x720    2\n",
      "60    1440x900    2\n",
      "69    1440x960    2\n",
      "70    1536x864    2\n",
      "73    1600x900    2\n",
      "131    414x896    2\n",
      "145   1057x661    1\n",
      "146   1072x670    1\n",
      "147   1143x643    1\n",
      "167   1198x799    1\n",
      "174  1280x1024    1\n",
      "175   1280x720    1\n",
      "181   1280x800    1\n",
      "227   1289x725    1\n",
      "233   1324x745    1\n",
      "336   1438x808    1\n",
      "450  1500x1000    1\n",
      "454  1504x1003    1\n",
      "505   1561x878    1\n",
      "566   1670x939    1\n",
      "569  1680x1050    1\n",
      "570  1829x1029    1\n",
      "797  2133x1200    1\n",
      "799  2259x1271    1\n",
      "800  2560x1440    1\n",
      "802  3008x1692    1\n",
      "803  3012x1271    1\n",
      "805  3200x1350    1\n",
      "812  3200x1800    1\n",
      "813  3440x1440    1\n",
      "815    360x780    1\n",
      "816    375x667    1\n",
      "819    375x812    1\n",
      "823    384x854    1\n",
      "824    412x732    1\n",
      "825    412x846    1\n",
      "828    414x736    1\n",
      "848    860x484    1\n",
      "849    872x490    1\n",
      "852    891x501    1\n",
      "854    904x508    1\n",
      "932   1032x581    1\n",
      "933   1095x685    1\n",
      "939   1250x704    1\n"
     ]
    }
   ],
   "source": [
    "data = pd.read_excel('./resolution.xlsx', usecols=[0, 2], index=False)\n",
    "print(data)\n",
    "#print(data['屏幕分辨率'][0])\n",
    "df = data.drop_duplicates(subset='屏幕分辨率', keep='first', inplace=False)\n",
    "print(df)"
   ]
  },
  {
   "cell_type": "code",
   "execution_count": 77,
   "metadata": {
    "scrolled": false
   },
   "outputs": [],
   "source": [
    "reso_dict = {}\n",
    "for row in data.itertuples():\n",
    "    #print(getattr(row,'屏幕分辨率'), getattr(row,'用户数'),) # 输出每一行\n",
    "    a, b = getattr(row,'屏幕分辨率'), getattr(row,'用户数')\n",
    "    if a in reso_dict:\n",
    "        reso_dict[a][0] += int(b)\n",
    "        reso_dict[a][1] += 1\n",
    "    else:\n",
    "        reso_dict[a] = [b, 1]\n",
    "        #reso_dict[a][1] = 1\n",
    "\n",
    "#print(reso_dict)\n",
    "reso_list = []\n",
    "for k,v in reso_dict.items():\n",
    "    reso_list.append({'屏幕分辨率':k, '用户数':v[0], '页面数':v[1]})\n",
    "df = pd.DataFrame(reso_list)\n",
    "#print(df)\n",
    "df.to_excel('./result.xlsx',index=False)\n"
   ]
  }
 ],
 "metadata": {
  "kernelspec": {
   "display_name": "Python 3",
   "language": "python",
   "name": "python3"
  },
  "language_info": {
   "codemirror_mode": {
    "name": "ipython",
    "version": 3
   },
   "file_extension": ".py",
   "mimetype": "text/x-python",
   "name": "python",
   "nbconvert_exporter": "python",
   "pygments_lexer": "ipython3",
   "version": "3.7.4"
  }
 },
 "nbformat": 4,
 "nbformat_minor": 2
}
